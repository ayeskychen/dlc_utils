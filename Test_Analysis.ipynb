{
 "cells": [
  {
   "cell_type": "code",
   "execution_count": null,
   "metadata": {},
   "outputs": [],
   "source": [
    "%matplotlib inline\n",
    "import cv2\n",
    "cap = cv2.VideoCapture(r\"C:\\Users\\bsriram\\Desktop\\Data\\ACM_Data\\AllData\\SI_sample\\behavCam1.avi\")\n",
    "cap.set(1,300)\n",
    "success,image = cap.read()\n",
    "image = cv2.arrowedLine(image,(0,0),(100,100),(0.,0.,255.),3)  \n",
    "cv2.imshow('ImageWindow', image)\n",
    "cv2.waitKey()\n",
    "\n",
    "fps = 1/cap.get(2)\n",
    "cap.release()\n",
    "print(fps)"
   ]
  },
  {
   "cell_type": "markdown",
   "metadata": {},
   "source": [
    "# analyze a specific session"
   ]
  },
  {
   "cell_type": "code",
   "execution_count": 2,
   "metadata": {},
   "outputs": [
    {
     "name": "stdout",
     "output_type": "stream",
     "text": [
      "(88, 284)\n",
      "(295, 83)\n"
     ]
    },
    {
     "name": "stderr",
     "output_type": "stream",
     "text": [
      "100%|█████████████████████████████████████████████████████████████████████████████████████████| 6000/6000 [00:09<00:00, 634.37it/s]\n"
     ]
    }
   ],
   "source": [
    "%matplotlib inline\n",
    "import cv2\n",
    "import os\n",
    "import numpy as np\n",
    "import tqdm\n",
    "import collections\n",
    "import matplotlib.pyplot as plt\n",
    "from dlc_utils import get_all_videos_in_session,get_analysis_dfs,get_body_length\n",
    "from nor_si_utils import get_object_locations\n",
    "import sys\n",
    "\n",
    "session = r'C:\\Users\\bsriram\\Desktop\\Data\\ACM_Data\\AllData\\SI_sample'\n",
    "\n",
    "vids = get_all_videos_in_session(session)\n",
    "df = get_analysis_dfs(session,vids)\n",
    "df = get_body_length(df)\n",
    "# fig,ax=plt.subplots(1,1,figsize=(10,10))\n",
    "# ax.plot(df['body_length'])\n",
    "bl_m = df['body_length'].mean()\n",
    "bl_sd = df['body_length'].std()\n",
    "\n",
    "bl_obj,tr_obj = get_object_locations(df)\n",
    "\n",
    "# ax.plot(ax.get_xlim(),[bl_m,bl_m],'k--')\n",
    "# ax.plot(ax.get_xlim(),[bl_m-bl_sd,bl_m-bl_sd],'k--')\n",
    "# ax.plot(ax.get_xlim(),[bl_m+bl_sd,bl_m+bl_sd],'k--')\n",
    "try:\n",
    "    curr_filename = os.path.join(session,vids[0]+'.avi')\n",
    "    cap = cv2.VideoCapture(curr_filename)\n",
    "    fourcc = cv2.VideoWriter_fourcc(*'DIVX')\n",
    "    writer = cv2.VideoWriter(r\"C:\\Users\\bsriram\\Desktop\\Data\\ACM_Data\\AllData\\annotated_SI_part.avi\",fourcc, 1/cap.get(2), \n",
    "                             (int(cap.get(3)),int(cap.get(4)+100)))\n",
    "    body_len = collections.deque([np.nan],maxlen=300)\n",
    "    for idx,row in tqdm.tqdm(df.iterrows(),total=df.shape[0]):\n",
    "        if idx<900 or idx>1900 : continue\n",
    "        if row['source'][0] in curr_filename:\n",
    "            # cv is open to the right place\n",
    "            pass\n",
    "        else:\n",
    "            cap.release()\n",
    "            curr_filename = os.path.join(session,row['source'][0]+'.avi')\n",
    "            cap=cv2.VideoCapture(curr_filename)\n",
    "        # get the frame\n",
    "        cap.set(1,row['frame_number'][0]) # 1==set frame number\n",
    "        succ,img = cap.read()\n",
    "        #annotate\n",
    "        arrow_col = (0.,0.,255.)\n",
    "        arrow_size = 3\n",
    "        if not np.isnan(row['body_length'][0]):\n",
    "            try:\n",
    "                img = cv2.arrowedLine(img,row['bl_arrow_start'][0],row['bl_arrow_end'][0],arrow_col,arrow_size)\n",
    "            except ValueError as er:\n",
    "                # ok found a nan value - skipping\n",
    "                pass\n",
    "        \n",
    "        \n",
    "        # modify image\n",
    "        new_img = np.zeros((img.shape[0]+100,img.shape[1],img.shape[2])).astype(np.uint8)\n",
    "        new_img[:img.shape[0],:,:] += img[:,:,:]\n",
    "        \n",
    "        # draw the object circles\n",
    "        new_img = cv2.circle(new_img,bl_obj,5,(0,255,0))\n",
    "        new_img = cv2.circle(new_img,tr_obj,5,(255,0,0))\n",
    "        \n",
    "        # body length calculations\n",
    "        body_len.append(row['body_length'][0])\n",
    "        new_img = cv2.line(new_img,(10,475),(310,475),(127,127,127),1)\n",
    "        new_img = cv2.line(new_img,(10,475),(10,425),(127,127,127),1)\n",
    "        for i,length in enumerate(body_len):\n",
    "            if not np.isnan(length):\n",
    "                if length>bl_m-bl_sd: new_img = cv2.circle(new_img,(10+i,int(475-1.5*length)),1,(255,255,255))\n",
    "                else: new_img = cv2.circle(new_img,(10+i,int(475-1.5*length)),3,(255,0,0))\n",
    "        \n",
    "        # add to writer\n",
    "        writer.write(new_img)\n",
    "except Exception as er:\n",
    "    import pdb\n",
    "    pdb.set_trace()\n",
    "    \n",
    "    raise er.with_traceback(sys.exc_info()[2])\n",
    "finally:\n",
    "    # for index, row in df.iterrows():\n",
    "    cap.release()\n",
    "    writer.release()\n",
    "    cv2.destroyAllWindows()"
   ]
  },
  {
   "cell_type": "code",
   "execution_count": null,
   "metadata": {},
   "outputs": [],
   "source": [
    "%matplotlib qt\n",
    "from dlc_utils import get_all_videos_in_session,get_analysis_dfs,get_body_length\n",
    "import matplotlib.pyplot as plt\n",
    "def euclidean_dist(p1,p2):\n",
    "    return np.sqrt((p1[0]-p2[0])**2+(p1[1]-p2[1])**2)\n",
    "\n",
    "session = r'C:\\Users\\bsriram\\Desktop\\Data\\ACM_Data\\AllData\\SI_sample'\n",
    "\n",
    "vids = get_all_videos_in_session(session)\n",
    "df = get_analysis_dfs(session,vids)\n",
    "body_length_median = get_body_length(df,strategy='median_filter')\n",
    "df['body_length'] = body_length_median\n"
   ]
  },
  {
   "cell_type": "code",
   "execution_count": null,
   "metadata": {},
   "outputs": [],
   "source": [
    "\n",
    "import numpy as np\n",
    "# plt.plot(goods)\n",
    "\n",
    "print(i)\n",
    "\n",
    "plt.plot(goods[:i])\n",
    "        \n",
    "    \n"
   ]
  },
  {
   "cell_type": "code",
   "execution_count": null,
   "metadata": {},
   "outputs": [],
   "source": [
    "print(x)"
   ]
  },
  {
   "cell_type": "code",
   "execution_count": null,
   "metadata": {},
   "outputs": [],
   "source": []
  }
 ],
 "metadata": {
  "kernelspec": {
   "display_name": "Python [conda env:dlc_cpu] *",
   "language": "python",
   "name": "conda-env-dlc_cpu-py"
  },
  "language_info": {
   "codemirror_mode": {
    "name": "ipython",
    "version": 3
   },
   "file_extension": ".py",
   "mimetype": "text/x-python",
   "name": "python",
   "nbconvert_exporter": "python",
   "pygments_lexer": "ipython3",
   "version": "3.6.9"
  }
 },
 "nbformat": 4,
 "nbformat_minor": 2
}
